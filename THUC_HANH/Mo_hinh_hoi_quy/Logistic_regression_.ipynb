{
 "cells": [
  {
   "cell_type": "code",
   "execution_count": 21,
   "metadata": {
    "collapsed": true,
    "pycharm": {
     "name": "#%%\n"
    }
   },
   "outputs": [],
   "source": [
    "import pandas as pd\n",
    "import numpy as np\n",
    "import matplotlib.pyplot as plt\n"
   ]
  },
  {
   "cell_type": "code",
   "execution_count": 22,
   "outputs": [],
   "source": [
    "#some config\n",
    "# plt.rcParams['figure.figsize']=(10,8)\n",
    "# plt.rcParams['figure.dpi']=100\n",
    "# plt.rcParams['font.size']=12\n",
    "# plt.rcParams['legend.title_fontsize']='medium'\n",
    "# plt.rcParams['legend.fontsize']='large'"
   ],
   "metadata": {
    "collapsed": false,
    "pycharm": {
     "name": "#%%\n"
    }
   }
  },
  {
   "cell_type": "code",
   "execution_count": 23,
   "outputs": [
    {
     "data": {
      "text/plain": "<matplotlib.collections.PathCollection at 0x12dd4b3c310>"
     },
     "execution_count": 23,
     "metadata": {},
     "output_type": "execute_result"
    },
    {
     "data": {
      "text/plain": "<Figure size 432x288 with 1 Axes>",
      "image/png": "[encoded data removed]"
     },
     "metadata": {
      "needs_background": "light"
     },
     "output_type": "display_data"
    }
   ],
   "source": [
    "#Load data\n",
    "df=pd.read_csv(\"./data/Insurance.csv\")\n",
    "plt.scatter(df.age,df[['bought_insurance']], color='g',marker='o')"
   ],
   "metadata": {
    "collapsed": false,
    "pycharm": {
     "name": "#%%\n"
    }
   }
  },
  {
   "cell_type": "code",
   "execution_count": 24,
   "outputs": [],
   "source": [
    "\n",
    "#split train/test data\n",
    "from sklearn.model_selection import train_test_split\n",
    "x_train, x_test, y_train, y_test = train_test_split(df[['age']], df.bought_insurance, test_size=0.1)"
   ],
   "metadata": {
    "collapsed": false,
    "pycharm": {
     "name": "#%%\n"
    }
   }
  },
  {
   "cell_type": "code",
   "execution_count": 25,
   "outputs": [],
   "source": [
    "#create model and fit it\n",
    "from sklearn.linear_model import LogisticRegression\n",
    "# model=LogisticRegression().fit(x_train,y_train)\n",
    "model=LogisticRegression(solver='liblinear', C=10.0, random_state=0).fit(x_train,y_train)\n",
    "#random_state: chạy random để tìm ra mô hình tối ưu với tập train/test"
   ],
   "metadata": {
    "collapsed": false,
    "pycharm": {
     "name": "#%%\n"
    }
   }
  },
  {
   "cell_type": "code",
   "execution_count": 27,
   "outputs": [
    {
     "name": "stdout",
     "output_type": "stream",
     "text": [
      "0.875\n"
     ]
    }
   ],
   "source": [
    "#get result and evaluate model\n",
    "intercept=model.intercept_\n",
    "coefs=model.coef_\n",
    "R_q=model.score(x_train,y_train)\n",
    "print(R_q)\n",
    "prob_matrix=model.predict_proba(x_train)"
   ],
   "metadata": {
    "collapsed": false,
    "pycharm": {
     "name": "#%%\n"
    }
   }
  },
  {
   "cell_type": "code",
   "execution_count": 8,
   "outputs": [
    {
     "name": "stdout",
     "output_type": "stream",
     "text": [
      "              precision    recall  f1-score   support\n",
      "\n",
      "           0       0.91      0.83      0.87        12\n",
      "           1       0.85      0.92      0.88        12\n",
      "\n",
      "    accuracy                           0.88        24\n",
      "   macro avg       0.88      0.88      0.87        24\n",
      "weighted avg       0.88      0.88      0.87        24\n",
      "\n",
      "[[10  2]\n",
      " [ 1 11]]\n"
     ]
    }
   ],
   "source": [
    "from sklearn.metrics import classification_report, confusion_matrix\n",
    "y_train_pred=model.predict(x_train)\n",
    "print(classification_report(y_train,y_train_pred))\n",
    "cm=confusion_matrix(y_train, y_train_pred)\n",
    "print(cm)\n",
    "#precision: giai quyet bai toan phan lop,\n",
    "#recall: xet do phu\n",
    "#91% du bao dung trong trường hợp k mua bao hiem\n",
    "#85% du bao đúng trong trường hợp mua bao hiem\n",
    "#do an thi trinh bay them recall va f1-score\n",
    "#cm: thể hiện các chỉ số dự đoán đúng...\n",
    "#khác nhau giữa prec và acc"
   ],
   "metadata": {
    "collapsed": false,
    "pycharm": {
     "name": "#%%\n"
    }
   }
  },
  {
   "cell_type": "code",
   "execution_count": 9,
   "outputs": [
    {
     "data": {
      "text/plain": "<matplotlib.legend.Legend at 0x12dd48e8970>"
     },
     "execution_count": 9,
     "metadata": {},
     "output_type": "execute_result"
    },
    {
     "data": {
      "text/plain": "<Figure size 432x288 with 1 Axes>",
      "image/png": "[encoded data removed]"
     },
     "metadata": {
      "needs_background": "light"
     },
     "output_type": "display_data"
    }
   ],
   "source": [
    "plt.scatter(x_train,y_train, color='y',marker='o',label='Actual')\n",
    "plt.scatter(x_train,y_train_pred,color='r', marker='v', label=\"Predict\")\n",
    "plt.legend(loc='center left')\n",
    "#Từ đây đến sau chỉ trực quan để làm rõ kết quả\n",
    "#màu vàng dữ liệu gốc, một bên phân loại đúng, 1 bên phân loại sai, tìm hiểu thêm cái này"
   ],
   "metadata": {
    "collapsed": false,
    "pycharm": {
     "name": "#%%\n"
    }
   }
  },
  {
   "cell_type": "code",
   "execution_count": 10,
   "outputs": [
    {
     "data": {
      "text/plain": "<Figure size 432x288 with 1 Axes>",
      "image/png": "[encoded data removed]"
     },
     "metadata": {
      "needs_background": "light"
     },
     "output_type": "display_data"
    }
   ],
   "source": [
    "fig, ax=plt.subplots()\n",
    "ax.imshow(cm)\n",
    "ax.xaxis.set(ticks=(0,1), ticklabels=('Predicted 0s','Predicted 1s'))\n",
    "ax.yaxis.set(ticks=(0,1), ticklabels=('Actual 0s','Actual 1s'))\n",
    "for i in range(2):\n",
    "    for j in range(2):\n",
    "        ax.text(j,i,cm[i,j],ha='center',va='center',color='r',fontsize=22)\n",
    "plt.show()\n",
    "#"
   ],
   "metadata": {
    "collapsed": false,
    "pycharm": {
     "name": "#%%\n"
    }
   }
  },
  {
   "cell_type": "code",
   "execution_count": 11,
   "outputs": [
    {
     "data": {
      "text/plain": "array([[0.23480791, 0.76519209],\n       [0.85608674, 0.14391326],\n       [0.92376561, 0.07623439]])"
     },
     "execution_count": 11,
     "metadata": {},
     "output_type": "execute_result"
    }
   ],
   "source": [
    "#making predictions\n",
    "y_pred=model.predict(x_test)\n",
    "pred_score=model.score(x_test, y_test)\n",
    "pred_prob_matrix=model.predict_proba(x_test)\n",
    "pred_prob_matrix"
   ],
   "metadata": {
    "collapsed": false,
    "pycharm": {
     "name": "#%%\n"
    }
   }
  },
  {
   "cell_type": "code",
   "execution_count": 14,
   "outputs": [],
   "source": [
    "# Define predicted function via Sigmoid\n",
    "from comn_func import sigmoid\n",
    "\n",
    "\n",
    "def prediction_function(age, inter, coef):\n",
    "    z = inter + coef * age\n",
    "    return sigmoid(z)\n"
   ],
   "metadata": {
    "collapsed": false,
    "pycharm": {
     "name": "#%%\n"
    }
   }
  },
  {
   "cell_type": "code",
   "execution_count": 15,
   "outputs": [
    {
     "data": {
      "text/plain": "<Figure size 432x288 with 1 Axes>",
      "image/png": "[encoded data removed]"
     },
     "metadata": {
      "needs_background": "light"
     },
     "output_type": "display_data"
    }
   ],
   "source": [
    "# Draw sigmoid plot\n",
    "plt.scatter(x_train, y_train, color='r', marker='o')\n",
    "# plt.scatter(df['age'], df['bought_insurance'], color ='r',marker='o')\n",
    "X_test = np.linspace(10, 75, 25)\n",
    "sigs = []\n",
    "for item in X_test:\n",
    "    sigs.append(prediction_function(item, intercept[0], coefs[0][0]))\n",
    "plt.plot(X_test, sigs, color='g', linestyle='--')\n",
    "plt.scatter(x_test, y_test, color='b', s=100, label='Actual')\n",
    "plt.scatter(x_test, y_pred, color='y', marker='x', label='Predict')\n",
    "plt.legend(loc=\"center right\")\n",
    "plt.show()"
   ],
   "metadata": {
    "collapsed": false,
    "pycharm": {
     "name": "#%%\n"
    }
   }
  },
  {
   "cell_type": "code",
   "execution_count": null,
   "outputs": [],
   "source": [],
   "metadata": {
    "collapsed": false,
    "pycharm": {
     "name": "#%%\n"
    }
   }
  },
  {
   "cell_type": "code",
   "execution_count": null,
   "outputs": [],
   "source": [],
   "metadata": {
    "collapsed": false,
    "pycharm": {
     "name": "#%%\n"
    }
   }
  }
 ],
 "metadata": {
  "kernelspec": {
   "display_name": "Python 3",
   "language": "python",
   "name": "python3"
  },
  "language_info": {
   "codemirror_mode": {
    "name": "ipython",
    "version": 2
   },
   "file_extension": ".py",
   "mimetype": "text/x-python",
   "name": "python",
   "nbconvert_exporter": "python",
   "pygments_lexer": "ipython2",
   "version": "2.7.6"
  }
 },
 "nbformat": 4,
 "nbformat_minor": 0
}